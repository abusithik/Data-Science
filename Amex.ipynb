{
 "cells": [
  {
   "cell_type": "code",
   "execution_count": 122,
   "metadata": {},
   "outputs": [],
   "source": [
    "import numpy as np\n",
    "import pandas as pd\n",
    "import seaborn as sns\n",
    "import matplotlib.pyplot as plt\n",
    "from sklearn.cross_validation import train_test_split"
   ]
  },
  {
   "cell_type": "code",
   "execution_count": 123,
   "metadata": {},
   "outputs": [],
   "source": [
    "dataset=pd.read_csv('C:/Users/smoham72/Desktop/Amex/train.csv')"
   ]
  },
  {
   "cell_type": "code",
   "execution_count": 97,
   "metadata": {},
   "outputs": [],
   "source": [
    "dataset1=pd.read_csv('C:/Users/smoham72/Desktop/Amex/test.csv')"
   ]
  },
  {
   "cell_type": "code",
   "execution_count": 98,
   "metadata": {},
   "outputs": [
    {
     "data": {
      "text/html": [
       "<div>\n",
       "<style scoped>\n",
       "    .dataframe tbody tr th:only-of-type {\n",
       "        vertical-align: middle;\n",
       "    }\n",
       "\n",
       "    .dataframe tbody tr th {\n",
       "        vertical-align: top;\n",
       "    }\n",
       "\n",
       "    .dataframe thead th {\n",
       "        text-align: right;\n",
       "    }\n",
       "</style>\n",
       "<table border=\"1\" class=\"dataframe\">\n",
       "  <thead>\n",
       "    <tr style=\"text-align: right;\">\n",
       "      <th></th>\n",
       "      <th>session_id</th>\n",
       "      <th>DateTime</th>\n",
       "      <th>user_id</th>\n",
       "      <th>product</th>\n",
       "      <th>campaign_id</th>\n",
       "      <th>webpage_id</th>\n",
       "      <th>product_category_1</th>\n",
       "      <th>product_category_2</th>\n",
       "      <th>user_group_id</th>\n",
       "      <th>gender</th>\n",
       "      <th>age_level</th>\n",
       "      <th>user_depth</th>\n",
       "      <th>city_development_index</th>\n",
       "      <th>var_1</th>\n",
       "    </tr>\n",
       "  </thead>\n",
       "  <tbody>\n",
       "    <tr>\n",
       "      <th>0</th>\n",
       "      <td>411705</td>\n",
       "      <td>7/8/2017</td>\n",
       "      <td>732573</td>\n",
       "      <td>J</td>\n",
       "      <td>404347</td>\n",
       "      <td>53587</td>\n",
       "      <td>1</td>\n",
       "      <td>NaN</td>\n",
       "      <td>5.0</td>\n",
       "      <td>Male</td>\n",
       "      <td>5.0</td>\n",
       "      <td>3.0</td>\n",
       "      <td>NaN</td>\n",
       "      <td>0</td>\n",
       "    </tr>\n",
       "    <tr>\n",
       "      <th>1</th>\n",
       "      <td>208263</td>\n",
       "      <td>7/8/2017</td>\n",
       "      <td>172910</td>\n",
       "      <td>I</td>\n",
       "      <td>118601</td>\n",
       "      <td>28529</td>\n",
       "      <td>3</td>\n",
       "      <td>82527.0</td>\n",
       "      <td>NaN</td>\n",
       "      <td>NaN</td>\n",
       "      <td>NaN</td>\n",
       "      <td>NaN</td>\n",
       "      <td>NaN</td>\n",
       "      <td>1</td>\n",
       "    </tr>\n",
       "    <tr>\n",
       "      <th>2</th>\n",
       "      <td>239450</td>\n",
       "      <td>7/8/2017</td>\n",
       "      <td>172910</td>\n",
       "      <td>I</td>\n",
       "      <td>118601</td>\n",
       "      <td>28529</td>\n",
       "      <td>4</td>\n",
       "      <td>82527.0</td>\n",
       "      <td>NaN</td>\n",
       "      <td>NaN</td>\n",
       "      <td>NaN</td>\n",
       "      <td>NaN</td>\n",
       "      <td>NaN</td>\n",
       "      <td>1</td>\n",
       "    </tr>\n",
       "    <tr>\n",
       "      <th>3</th>\n",
       "      <td>547761</td>\n",
       "      <td>7/8/2017</td>\n",
       "      <td>557318</td>\n",
       "      <td>G</td>\n",
       "      <td>118601</td>\n",
       "      <td>28529</td>\n",
       "      <td>5</td>\n",
       "      <td>82527.0</td>\n",
       "      <td>1.0</td>\n",
       "      <td>Male</td>\n",
       "      <td>1.0</td>\n",
       "      <td>3.0</td>\n",
       "      <td>1.0</td>\n",
       "      <td>0</td>\n",
       "    </tr>\n",
       "    <tr>\n",
       "      <th>4</th>\n",
       "      <td>574275</td>\n",
       "      <td>7/8/2017</td>\n",
       "      <td>923896</td>\n",
       "      <td>H</td>\n",
       "      <td>118601</td>\n",
       "      <td>28529</td>\n",
       "      <td>5</td>\n",
       "      <td>82527.0</td>\n",
       "      <td>9.0</td>\n",
       "      <td>Female</td>\n",
       "      <td>3.0</td>\n",
       "      <td>1.0</td>\n",
       "      <td>NaN</td>\n",
       "      <td>1</td>\n",
       "    </tr>\n",
       "  </tbody>\n",
       "</table>\n",
       "</div>"
      ],
      "text/plain": [
       "   session_id  DateTime  user_id product  campaign_id  webpage_id  \\\n",
       "0      411705  7/8/2017   732573       J       404347       53587   \n",
       "1      208263  7/8/2017   172910       I       118601       28529   \n",
       "2      239450  7/8/2017   172910       I       118601       28529   \n",
       "3      547761  7/8/2017   557318       G       118601       28529   \n",
       "4      574275  7/8/2017   923896       H       118601       28529   \n",
       "\n",
       "   product_category_1  product_category_2  user_group_id  gender  age_level  \\\n",
       "0                   1                 NaN            5.0    Male        5.0   \n",
       "1                   3             82527.0            NaN     NaN        NaN   \n",
       "2                   4             82527.0            NaN     NaN        NaN   \n",
       "3                   5             82527.0            1.0    Male        1.0   \n",
       "4                   5             82527.0            9.0  Female        3.0   \n",
       "\n",
       "   user_depth  city_development_index  var_1  \n",
       "0         3.0                     NaN      0  \n",
       "1         NaN                     NaN      1  \n",
       "2         NaN                     NaN      1  \n",
       "3         3.0                     1.0      0  \n",
       "4         1.0                     NaN      1  "
      ]
     },
     "execution_count": 98,
     "metadata": {},
     "output_type": "execute_result"
    }
   ],
   "source": [
    "dataset1.head()"
   ]
  },
  {
   "cell_type": "code",
   "execution_count": 30,
   "metadata": {},
   "outputs": [
    {
     "data": {
      "text/plain": [
       "<bound method NDFrame.describe of         session_id  DateTime  user_id product  campaign_id  webpage_id  \\\n",
       "0             4321  7/2/2017        4       I       404347       53587   \n",
       "1           106452  7/6/2017        6       C       405490       60305   \n",
       "2           538078  7/2/2017       19       E        98970        6970   \n",
       "3           538079  7/5/2017       19       E        98970        6970   \n",
       "4           354959  7/3/2017       25       B       360936       13787   \n",
       "5           336652  7/3/2017       25       H       359520       13787   \n",
       "6           349175  7/6/2017       26       H       414149       45962   \n",
       "7           374368  7/2/2017       30       D       359520       13787   \n",
       "8           150260  7/4/2017       33       I       359520       13787   \n",
       "9           150239  7/7/2017       33       I       359520       13787   \n",
       "10          487894  7/2/2017       37       H       359520       13787   \n",
       "11          542101  7/2/2017       37       H       105960       11085   \n",
       "12          185173  7/2/2017       37       C       359520       13787   \n",
       "13            3073  7/2/2017       37       I       404347       53587   \n",
       "14          511899  7/4/2017       37       H       405490       60305   \n",
       "15          487426  7/4/2017       37       H       359520       13787   \n",
       "16           63644  7/4/2017       37       C       405490       60305   \n",
       "17          522618  7/4/2017       37       A       405490       60305   \n",
       "18           35865  7/5/2017       37       H       405490       60305   \n",
       "19          498276  7/5/2017       37       B        98970        6970   \n",
       "20          273244  7/5/2017       37       D        98970        6970   \n",
       "21          487463  7/6/2017       37       H       359520       13787   \n",
       "22          522277  7/6/2017       37       A       405490       60305   \n",
       "23           63516  7/6/2017       37       C       405490       60305   \n",
       "24          339149  7/7/2017       46       H       359520       13787   \n",
       "25          477638  7/7/2017       46       H       359520       13787   \n",
       "26          505934  7/5/2017       59       H       405490       60305   \n",
       "27          456722  7/2/2017       62       C       360936       13787   \n",
       "28          538057  7/2/2017       62       E        98970        6970   \n",
       "29          300153  7/4/2017       62       C       360936       13787   \n",
       "...            ...       ...      ...     ...          ...         ...   \n",
       "463261      101763  7/3/2017  1141667       C       405490       60305   \n",
       "463262      424030  7/3/2017  1141667       E       404347       53587   \n",
       "463263      101765  7/7/2017  1141667       C       405490       60305   \n",
       "463264      412735  7/4/2017  1141671       J       404347       53587   \n",
       "463265      378791  7/5/2017  1141671       G        82320        1734   \n",
       "463266      261128  7/3/2017  1141687       I       396664       51181   \n",
       "463267      430078  7/3/2017  1141687       H       396664       51181   \n",
       "463268      121547  7/4/2017  1141687       H        82320        1734   \n",
       "463269       84162  7/5/2017  1141687       C       405490       60305   \n",
       "463270      586254  7/7/2017  1141687       H       118601       28529   \n",
       "463271      594910  7/7/2017  1141687       I       118601       28529   \n",
       "463272      285173  7/2/2017  1141702       C       405490       60305   \n",
       "463273       98241  7/2/2017  1141702       C       405490       60305   \n",
       "463274      456391  7/4/2017  1141713       C       360936       13787   \n",
       "463275      582376  7/6/2017  1141714       H       118601       28529   \n",
       "463276      593241  7/7/2017  1141714       I       118601       28529   \n",
       "463277      106471  7/4/2017  1141716       C       405490       60305   \n",
       "463278      274610  7/4/2017  1141716       D        98970        6970   \n",
       "463279      106491  7/7/2017  1141716       C       405490       60305   \n",
       "463280      261254  7/2/2017  1141718       I       396664       51181   \n",
       "463281      505914  7/3/2017  1141718       H       405490       60305   \n",
       "463282       15332  7/6/2017  1141718       H        82320        1734   \n",
       "463283      422220  7/6/2017  1141718       B        82320        1734   \n",
       "463284      430158  7/4/2017  1141723       H       396664       51181   \n",
       "463285      406792  7/5/2017  1141723       A       396664       51181   \n",
       "463286      566299  7/5/2017  1141723       H       118601       28529   \n",
       "463287       15398  7/5/2017  1141729       H        82320        1734   \n",
       "463288      124110  7/5/2017  1141729       C       359520       13787   \n",
       "463289       22020  7/5/2017  1141729       C       360936       13787   \n",
       "463290      296274  7/5/2017  1141729       C       360936       13787   \n",
       "\n",
       "        product_category_1  product_category_2  user_group_id  gender  \\\n",
       "0                        1            146115.0           11.0  Female   \n",
       "1                        3                 NaN            3.0    Male   \n",
       "2                        2                 NaN            0.0    Male   \n",
       "3                        2                 NaN            0.0    Male   \n",
       "4                        2                 NaN            2.0    Male   \n",
       "5                        4                 NaN            2.0    Male   \n",
       "6                        5                 NaN            4.0    Male   \n",
       "7                        4                 NaN            4.0    Male   \n",
       "8                        2                 NaN            2.0    Male   \n",
       "9                        2                 NaN            2.0    Male   \n",
       "10                       3                 NaN            2.0    Male   \n",
       "11                       3                 NaN            2.0    Male   \n",
       "12                       4                 NaN            2.0    Male   \n",
       "13                       1            146115.0            2.0    Male   \n",
       "14                       3                 NaN            2.0    Male   \n",
       "15                       3                 NaN            2.0    Male   \n",
       "16                       3                 NaN            2.0    Male   \n",
       "17                       2                 NaN            2.0    Male   \n",
       "18                       3                 NaN            2.0    Male   \n",
       "19                       2                 NaN            2.0    Male   \n",
       "20                       4                 NaN            2.0    Male   \n",
       "21                       3                 NaN            2.0    Male   \n",
       "22                       2                 NaN            2.0    Male   \n",
       "23                       3                 NaN            2.0    Male   \n",
       "24                       4                 NaN            1.0    Male   \n",
       "25                       4                 NaN            1.0    Male   \n",
       "26                       3                 NaN            8.0  Female   \n",
       "27                       3                 NaN            5.0    Male   \n",
       "28                       2                 NaN            5.0    Male   \n",
       "29                       5                 NaN            5.0    Male   \n",
       "...                    ...                 ...            ...     ...   \n",
       "463261                   3                 NaN            2.0    Male   \n",
       "463262                   1            146115.0            2.0    Male   \n",
       "463263                   3                 NaN            2.0    Male   \n",
       "463264                   1                 NaN            2.0    Male   \n",
       "463265                   1            146115.0            2.0    Male   \n",
       "463266                   1                 NaN            2.0    Male   \n",
       "463267                   1                 NaN            2.0    Male   \n",
       "463268                   1            146115.0            2.0    Male   \n",
       "463269                   3                 NaN            2.0    Male   \n",
       "463270                   5             82527.0            2.0    Male   \n",
       "463271                   4             82527.0            2.0    Male   \n",
       "463272                   2                 NaN            2.0    Male   \n",
       "463273                   3                 NaN            2.0    Male   \n",
       "463274                   3                 NaN            3.0    Male   \n",
       "463275                   5             82527.0            1.0    Male   \n",
       "463276                   4             82527.0            1.0    Male   \n",
       "463277                   3                 NaN            2.0    Male   \n",
       "463278                   4                 NaN            2.0    Male   \n",
       "463279                   3                 NaN            2.0    Male   \n",
       "463280                   1                 NaN           11.0  Female   \n",
       "463281                   3                 NaN           11.0  Female   \n",
       "463282                   1                 NaN           11.0  Female   \n",
       "463283                   1            143597.0           11.0  Female   \n",
       "463284                   1                 NaN            1.0    Male   \n",
       "463285                   1            143597.0            1.0    Male   \n",
       "463286                   5             82527.0            1.0    Male   \n",
       "463287                   1                 NaN            1.0    Male   \n",
       "463288                   4                 NaN            1.0    Male   \n",
       "463289                   5                 NaN            1.0    Male   \n",
       "463290                   5                 NaN            1.0    Male   \n",
       "\n",
       "        age_level  user_depth  city_development_index  var_1  is_click  \n",
       "0             5.0         2.0                     NaN      0         0  \n",
       "1             3.0         3.0                     3.0      1         0  \n",
       "2             0.0         3.0                     2.0      1         0  \n",
       "3             0.0         3.0                     2.0      1         0  \n",
       "4             2.0         3.0                     4.0      1         0  \n",
       "5             2.0         3.0                     4.0      1         0  \n",
       "6             4.0         2.0                     2.0      1         0  \n",
       "7             4.0         3.0                     2.0      0         0  \n",
       "8             2.0         3.0                     NaN      0         0  \n",
       "9             2.0         3.0                     NaN      0         0  \n",
       "10            2.0         3.0                     2.0      1         0  \n",
       "11            2.0         3.0                     2.0      1         0  \n",
       "12            2.0         3.0                     2.0      1         0  \n",
       "13            2.0         3.0                     2.0      1         0  \n",
       "14            2.0         3.0                     2.0      1         0  \n",
       "15            2.0         3.0                     2.0      1         0  \n",
       "16            2.0         3.0                     2.0      1         0  \n",
       "17            2.0         3.0                     2.0      1         0  \n",
       "18            2.0         3.0                     2.0      1         0  \n",
       "19            2.0         3.0                     2.0      1         0  \n",
       "20            2.0         3.0                     2.0      1         0  \n",
       "21            2.0         3.0                     2.0      1         0  \n",
       "22            2.0         3.0                     2.0      1         0  \n",
       "23            2.0         3.0                     2.0      1         0  \n",
       "24            1.0         3.0                     3.0      0         0  \n",
       "25            1.0         3.0                     3.0      0         0  \n",
       "26            2.0         3.0                     4.0      0         0  \n",
       "27            5.0         2.0                     3.0      0         0  \n",
       "28            5.0         2.0                     3.0      0         0  \n",
       "29            5.0         2.0                     3.0      0         0  \n",
       "...           ...         ...                     ...    ...       ...  \n",
       "463261        2.0         3.0                     2.0      1         0  \n",
       "463262        2.0         3.0                     2.0      1         0  \n",
       "463263        2.0         3.0                     2.0      1         0  \n",
       "463264        2.0         3.0                     4.0      1         0  \n",
       "463265        2.0         3.0                     4.0      1         0  \n",
       "463266        2.0         3.0                     1.0      0         0  \n",
       "463267        2.0         3.0                     1.0      0         0  \n",
       "463268        2.0         3.0                     1.0      0         0  \n",
       "463269        2.0         3.0                     1.0      0         0  \n",
       "463270        2.0         3.0                     1.0      0         0  \n",
       "463271        2.0         3.0                     1.0      0         0  \n",
       "463272        2.0         3.0                     1.0      1         0  \n",
       "463273        2.0         3.0                     1.0      1         0  \n",
       "463274        3.0         3.0                     NaN      1         0  \n",
       "463275        1.0         3.0                     3.0      0         1  \n",
       "463276        1.0         3.0                     3.0      0         0  \n",
       "463277        2.0         3.0                     3.0      0         0  \n",
       "463278        2.0         3.0                     3.0      0         0  \n",
       "463279        2.0         3.0                     3.0      0         0  \n",
       "463280        5.0         3.0                     NaN      0         1  \n",
       "463281        5.0         3.0                     NaN      0         0  \n",
       "463282        5.0         3.0                     NaN      0         1  \n",
       "463283        5.0         3.0                     NaN      0         0  \n",
       "463284        1.0         3.0                     4.0      1         1  \n",
       "463285        1.0         3.0                     4.0      1         0  \n",
       "463286        1.0         3.0                     4.0      1         0  \n",
       "463287        1.0         3.0                     NaN      0         0  \n",
       "463288        1.0         3.0                     NaN      0         0  \n",
       "463289        1.0         3.0                     NaN      0         0  \n",
       "463290        1.0         3.0                     NaN      0         0  \n",
       "\n",
       "[463291 rows x 15 columns]>"
      ]
     },
     "execution_count": 30,
     "metadata": {},
     "output_type": "execute_result"
    }
   ],
   "source": [
    "dataset.describe"
   ]
  },
  {
   "cell_type": "code",
   "execution_count": 31,
   "metadata": {},
   "outputs": [
    {
     "name": "stdout",
     "output_type": "stream",
     "text": [
      "['session_id', 'DateTime', 'user_id', 'product', 'campaign_id', 'webpage_id', 'product_category_1', 'product_category_2', 'user_group_id', 'gender', 'age_level', 'user_depth', 'city_development_index', 'var_1', 'is_click']\n"
     ]
    }
   ],
   "source": [
    "print (list(dataset.columns))"
   ]
  },
  {
   "cell_type": "code",
   "execution_count": 124,
   "metadata": {},
   "outputs": [
    {
     "data": {
      "text/plain": [
       "session_id                     0\n",
       "DateTime                       0\n",
       "user_id                        0\n",
       "product                        0\n",
       "campaign_id                    0\n",
       "webpage_id                     0\n",
       "product_category_1             0\n",
       "product_category_2        365854\n",
       "user_group_id              18243\n",
       "gender                     18243\n",
       "age_level                  18243\n",
       "user_depth                 18243\n",
       "city_development_index    125129\n",
       "var_1                          0\n",
       "is_click                       0\n",
       "dtype: int64"
      ]
     },
     "execution_count": 124,
     "metadata": {},
     "output_type": "execute_result"
    }
   ],
   "source": [
    "dataset.isnull().sum()"
   ]
  },
  {
   "cell_type": "code",
   "execution_count": 99,
   "metadata": {},
   "outputs": [
    {
     "data": {
      "text/plain": [
       "session_id                    0\n",
       "DateTime                      0\n",
       "user_id                       0\n",
       "product                       0\n",
       "campaign_id                   0\n",
       "webpage_id                    0\n",
       "product_category_1            0\n",
       "product_category_2        88307\n",
       "user_group_id              6337\n",
       "gender                     6337\n",
       "age_level                  6337\n",
       "user_depth                 6337\n",
       "city_development_index    38897\n",
       "var_1                         0\n",
       "dtype: int64"
      ]
     },
     "execution_count": 99,
     "metadata": {},
     "output_type": "execute_result"
    }
   ],
   "source": [
    "dataset1.isnull().sum()"
   ]
  },
  {
   "cell_type": "code",
   "execution_count": 125,
   "metadata": {},
   "outputs": [],
   "source": [
    "dataset=dataset.drop(['product_category_2'],axis=1)"
   ]
  },
  {
   "cell_type": "code",
   "execution_count": 100,
   "metadata": {},
   "outputs": [],
   "source": [
    "dataset1=dataset1.drop(['product_category_2'],axis=1)"
   ]
  },
  {
   "cell_type": "code",
   "execution_count": 126,
   "metadata": {},
   "outputs": [
    {
     "data": {
      "text/plain": [
       "session_id                     0\n",
       "DateTime                       0\n",
       "user_id                        0\n",
       "product                        0\n",
       "campaign_id                    0\n",
       "webpage_id                     0\n",
       "product_category_1             0\n",
       "user_group_id              18243\n",
       "gender                     18243\n",
       "age_level                  18243\n",
       "user_depth                 18243\n",
       "city_development_index    125129\n",
       "var_1                          0\n",
       "is_click                       0\n",
       "dtype: int64"
      ]
     },
     "execution_count": 126,
     "metadata": {},
     "output_type": "execute_result"
    }
   ],
   "source": [
    "dataset.isnull().sum()"
   ]
  },
  {
   "cell_type": "code",
   "execution_count": 127,
   "metadata": {},
   "outputs": [
    {
     "data": {
      "text/plain": [
       "[Text(0,0,'1.0'), Text(0,0,'2.0'), Text(0,0,'3.0'), Text(0,0,'4.0')]"
      ]
     },
     "execution_count": 127,
     "metadata": {},
     "output_type": "execute_result"
    },
    {
     "data": {
      "image/png": "[encoded data removed]",
      "text/plain": [
       "<Figure size 432x288 with 1 Axes>"
      ]
     },
     "metadata": {},
     "output_type": "display_data"
    }
   ],
   "source": [
    "ax=sns.countplot(x='city_development_index', data=dataset, )\n",
    "ax.set_xticklabels(ax.get_xticklabels(),rotation = 40,ha=\"right\")"
   ]
  },
  {
   "cell_type": "code",
   "execution_count": 128,
   "metadata": {},
   "outputs": [],
   "source": [
    "#for city_development_index in df.city_development_index:\n",
    "dataset['city_development_index'].fillna(dataset['city_development_index'].mode()[0], inplace=True)"
   ]
  },
  {
   "cell_type": "code",
   "execution_count": 101,
   "metadata": {},
   "outputs": [],
   "source": [
    "dataset1['city_development_index'].fillna(dataset1['city_development_index'].mode()[0], inplace=True)"
   ]
  },
  {
   "cell_type": "code",
   "execution_count": 129,
   "metadata": {},
   "outputs": [
    {
     "data": {
      "text/plain": [
       "[Text(0,0,'1.0'), Text(0,0,'2.0'), Text(0,0,'3.0'), Text(0,0,'4.0')]"
      ]
     },
     "execution_count": 129,
     "metadata": {},
     "output_type": "execute_result"
    },
    {
     "data": {
      "image/png": "[encoded data removed]",
      "text/plain": [
       "<Figure size 432x288 with 1 Axes>"
      ]
     },
     "metadata": {},
     "output_type": "display_data"
    }
   ],
   "source": [
    "ax=sns.countplot(x='city_development_index', data=dataset, )\n",
    "ax.set_xticklabels(ax.get_xticklabels(),rotation = 40,ha=\"right\")"
   ]
  },
  {
   "cell_type": "code",
   "execution_count": 130,
   "metadata": {},
   "outputs": [
    {
     "data": {
      "text/plain": [
       "0"
      ]
     },
     "execution_count": 130,
     "metadata": {},
     "output_type": "execute_result"
    }
   ],
   "source": [
    "dataset['city_development_index'].isnull().sum()"
   ]
  },
  {
   "cell_type": "code",
   "execution_count": 102,
   "metadata": {},
   "outputs": [
    {
     "data": {
      "text/plain": [
       "0"
      ]
     },
     "execution_count": 102,
     "metadata": {},
     "output_type": "execute_result"
    }
   ],
   "source": [
    "dataset1['city_development_index'].isnull().sum()"
   ]
  },
  {
   "cell_type": "code",
   "execution_count": 131,
   "metadata": {},
   "outputs": [],
   "source": [
    "dataset=dataset.dropna()"
   ]
  },
  {
   "cell_type": "code",
   "execution_count": 103,
   "metadata": {},
   "outputs": [],
   "source": [
    "dataset1=dataset1.dropna()"
   ]
  },
  {
   "cell_type": "code",
   "execution_count": 132,
   "metadata": {},
   "outputs": [
    {
     "data": {
      "text/plain": [
       "campaign_id               0\n",
       "product_category_1        0\n",
       "user_group_id             0\n",
       "age_level                 0\n",
       "user_depth                0\n",
       "city_development_index    0\n",
       "var_1                     0\n",
       "Male                      0\n",
       "B                         0\n",
       "C                         0\n",
       "D                         0\n",
       "E                         0\n",
       "F                         0\n",
       "G                         0\n",
       "H                         0\n",
       "I                         0\n",
       "J                         0\n",
       "dtype: int64"
      ]
     },
     "execution_count": 132,
     "metadata": {},
     "output_type": "execute_result"
    }
   ],
   "source": [
    "dataset1.isnull().sum()"
   ]
  },
  {
   "cell_type": "code",
   "execution_count": 133,
   "metadata": {},
   "outputs": [],
   "source": [
    "dataset= dataset.drop(['session_id','DateTime','user_id','webpage_id'],axis=1)"
   ]
  },
  {
   "cell_type": "code",
   "execution_count": 105,
   "metadata": {},
   "outputs": [],
   "source": [
    "dataset1= dataset1.drop(['session_id','DateTime','user_id','webpage_id'],axis=1)"
   ]
  },
  {
   "cell_type": "code",
   "execution_count": 134,
   "metadata": {},
   "outputs": [
    {
     "data": {
      "text/plain": [
       "(137718, 17)"
      ]
     },
     "execution_count": 134,
     "metadata": {},
     "output_type": "execute_result"
    }
   ],
   "source": [
    "dataset1.shape"
   ]
  },
  {
   "cell_type": "code",
   "execution_count": 107,
   "metadata": {},
   "outputs": [
    {
     "data": {
      "text/html": [
       "<div>\n",
       "<style scoped>\n",
       "    .dataframe tbody tr th:only-of-type {\n",
       "        vertical-align: middle;\n",
       "    }\n",
       "\n",
       "    .dataframe tbody tr th {\n",
       "        vertical-align: top;\n",
       "    }\n",
       "\n",
       "    .dataframe thead th {\n",
       "        text-align: right;\n",
       "    }\n",
       "</style>\n",
       "<table border=\"1\" class=\"dataframe\">\n",
       "  <thead>\n",
       "    <tr style=\"text-align: right;\">\n",
       "      <th></th>\n",
       "      <th>product</th>\n",
       "      <th>campaign_id</th>\n",
       "      <th>product_category_1</th>\n",
       "      <th>user_group_id</th>\n",
       "      <th>gender</th>\n",
       "      <th>age_level</th>\n",
       "      <th>user_depth</th>\n",
       "      <th>city_development_index</th>\n",
       "      <th>var_1</th>\n",
       "    </tr>\n",
       "  </thead>\n",
       "  <tbody>\n",
       "    <tr>\n",
       "      <th>0</th>\n",
       "      <td>J</td>\n",
       "      <td>404347</td>\n",
       "      <td>1</td>\n",
       "      <td>5.0</td>\n",
       "      <td>Male</td>\n",
       "      <td>5.0</td>\n",
       "      <td>3.0</td>\n",
       "      <td>2.0</td>\n",
       "      <td>0</td>\n",
       "    </tr>\n",
       "    <tr>\n",
       "      <th>3</th>\n",
       "      <td>G</td>\n",
       "      <td>118601</td>\n",
       "      <td>5</td>\n",
       "      <td>1.0</td>\n",
       "      <td>Male</td>\n",
       "      <td>1.0</td>\n",
       "      <td>3.0</td>\n",
       "      <td>1.0</td>\n",
       "      <td>0</td>\n",
       "    </tr>\n",
       "    <tr>\n",
       "      <th>4</th>\n",
       "      <td>H</td>\n",
       "      <td>118601</td>\n",
       "      <td>5</td>\n",
       "      <td>9.0</td>\n",
       "      <td>Female</td>\n",
       "      <td>3.0</td>\n",
       "      <td>1.0</td>\n",
       "      <td>2.0</td>\n",
       "      <td>1</td>\n",
       "    </tr>\n",
       "    <tr>\n",
       "      <th>5</th>\n",
       "      <td>I</td>\n",
       "      <td>118601</td>\n",
       "      <td>4</td>\n",
       "      <td>1.0</td>\n",
       "      <td>Male</td>\n",
       "      <td>1.0</td>\n",
       "      <td>3.0</td>\n",
       "      <td>4.0</td>\n",
       "      <td>1</td>\n",
       "    </tr>\n",
       "    <tr>\n",
       "      <th>6</th>\n",
       "      <td>D</td>\n",
       "      <td>118601</td>\n",
       "      <td>4</td>\n",
       "      <td>2.0</td>\n",
       "      <td>Male</td>\n",
       "      <td>2.0</td>\n",
       "      <td>3.0</td>\n",
       "      <td>2.0</td>\n",
       "      <td>1</td>\n",
       "    </tr>\n",
       "  </tbody>\n",
       "</table>\n",
       "</div>"
      ],
      "text/plain": [
       "  product  campaign_id  product_category_1  user_group_id  gender  age_level  \\\n",
       "0       J       404347                   1            5.0    Male        5.0   \n",
       "3       G       118601                   5            1.0    Male        1.0   \n",
       "4       H       118601                   5            9.0  Female        3.0   \n",
       "5       I       118601                   4            1.0    Male        1.0   \n",
       "6       D       118601                   4            2.0    Male        2.0   \n",
       "\n",
       "   user_depth  city_development_index  var_1  \n",
       "0         3.0                     2.0      0  \n",
       "3         3.0                     1.0      0  \n",
       "4         1.0                     2.0      1  \n",
       "5         3.0                     4.0      1  \n",
       "6         3.0                     2.0      1  "
      ]
     },
     "execution_count": 107,
     "metadata": {},
     "output_type": "execute_result"
    }
   ],
   "source": [
    "dataset1.head()"
   ]
  },
  {
   "cell_type": "code",
   "execution_count": 135,
   "metadata": {},
   "outputs": [],
   "source": [
    "data_product=pd.get_dummies(dataset['product'],drop_first=True)\n"
   ]
  },
  {
   "cell_type": "code",
   "execution_count": 108,
   "metadata": {},
   "outputs": [],
   "source": [
    "data_product1=pd.get_dummies(dataset1['product'],drop_first=True)\n"
   ]
  },
  {
   "cell_type": "code",
   "execution_count": 136,
   "metadata": {},
   "outputs": [],
   "source": [
    "data_gender=pd.get_dummies(dataset['gender'],drop_first=True)"
   ]
  },
  {
   "cell_type": "code",
   "execution_count": 109,
   "metadata": {},
   "outputs": [],
   "source": [
    "data_gender1=pd.get_dummies(dataset1['gender'],drop_first=True)"
   ]
  },
  {
   "cell_type": "code",
   "execution_count": 137,
   "metadata": {},
   "outputs": [
    {
     "data": {
      "text/html": [
       "<div>\n",
       "<style scoped>\n",
       "    .dataframe tbody tr th:only-of-type {\n",
       "        vertical-align: middle;\n",
       "    }\n",
       "\n",
       "    .dataframe tbody tr th {\n",
       "        vertical-align: top;\n",
       "    }\n",
       "\n",
       "    .dataframe thead th {\n",
       "        text-align: right;\n",
       "    }\n",
       "</style>\n",
       "<table border=\"1\" class=\"dataframe\">\n",
       "  <thead>\n",
       "    <tr style=\"text-align: right;\">\n",
       "      <th></th>\n",
       "      <th>product</th>\n",
       "      <th>campaign_id</th>\n",
       "      <th>product_category_1</th>\n",
       "      <th>user_group_id</th>\n",
       "      <th>gender</th>\n",
       "      <th>age_level</th>\n",
       "      <th>user_depth</th>\n",
       "      <th>city_development_index</th>\n",
       "      <th>var_1</th>\n",
       "      <th>is_click</th>\n",
       "    </tr>\n",
       "  </thead>\n",
       "  <tbody>\n",
       "    <tr>\n",
       "      <th>0</th>\n",
       "      <td>I</td>\n",
       "      <td>404347</td>\n",
       "      <td>1</td>\n",
       "      <td>11.0</td>\n",
       "      <td>Female</td>\n",
       "      <td>5.0</td>\n",
       "      <td>2.0</td>\n",
       "      <td>2.0</td>\n",
       "      <td>0</td>\n",
       "      <td>1</td>\n",
       "    </tr>\n",
       "    <tr>\n",
       "      <th>1</th>\n",
       "      <td>C</td>\n",
       "      <td>405490</td>\n",
       "      <td>3</td>\n",
       "      <td>3.0</td>\n",
       "      <td>Male</td>\n",
       "      <td>3.0</td>\n",
       "      <td>3.0</td>\n",
       "      <td>3.0</td>\n",
       "      <td>1</td>\n",
       "      <td>1</td>\n",
       "    </tr>\n",
       "    <tr>\n",
       "      <th>2</th>\n",
       "      <td>E</td>\n",
       "      <td>98970</td>\n",
       "      <td>2</td>\n",
       "      <td>0.0</td>\n",
       "      <td>Male</td>\n",
       "      <td>0.0</td>\n",
       "      <td>3.0</td>\n",
       "      <td>2.0</td>\n",
       "      <td>1</td>\n",
       "      <td>1</td>\n",
       "    </tr>\n",
       "    <tr>\n",
       "      <th>3</th>\n",
       "      <td>E</td>\n",
       "      <td>98970</td>\n",
       "      <td>2</td>\n",
       "      <td>0.0</td>\n",
       "      <td>Male</td>\n",
       "      <td>0.0</td>\n",
       "      <td>3.0</td>\n",
       "      <td>2.0</td>\n",
       "      <td>1</td>\n",
       "      <td>1</td>\n",
       "    </tr>\n",
       "    <tr>\n",
       "      <th>4</th>\n",
       "      <td>B</td>\n",
       "      <td>360936</td>\n",
       "      <td>2</td>\n",
       "      <td>2.0</td>\n",
       "      <td>Male</td>\n",
       "      <td>2.0</td>\n",
       "      <td>3.0</td>\n",
       "      <td>4.0</td>\n",
       "      <td>1</td>\n",
       "      <td>1</td>\n",
       "    </tr>\n",
       "  </tbody>\n",
       "</table>\n",
       "</div>"
      ],
      "text/plain": [
       "  product  campaign_id  product_category_1  user_group_id  gender  age_level  \\\n",
       "0       I       404347                   1           11.0  Female        5.0   \n",
       "1       C       405490                   3            3.0    Male        3.0   \n",
       "2       E        98970                   2            0.0    Male        0.0   \n",
       "3       E        98970                   2            0.0    Male        0.0   \n",
       "4       B       360936                   2            2.0    Male        2.0   \n",
       "\n",
       "   user_depth  city_development_index  var_1  is_click  \n",
       "0         2.0                     2.0      0         1  \n",
       "1         3.0                     3.0      1         1  \n",
       "2         3.0                     2.0      1         1  \n",
       "3         3.0                     2.0      1         1  \n",
       "4         3.0                     4.0      1         1  "
      ]
     },
     "execution_count": 137,
     "metadata": {},
     "output_type": "execute_result"
    }
   ],
   "source": [
    "dataset.head()"
   ]
  },
  {
   "cell_type": "code",
   "execution_count": 138,
   "metadata": {},
   "outputs": [],
   "source": [
    "dataset=pd.concat([dataset,data_gender,data_product],axis=1)\n",
    "dataset=dataset.drop(['product','gender'],axis=1)"
   ]
  },
  {
   "cell_type": "code",
   "execution_count": 110,
   "metadata": {},
   "outputs": [],
   "source": [
    "dataset1=pd.concat([dataset1,data_gender1,data_product1],axis=1)\n",
    "dataset1=dataset1.drop(['product','gender'],axis=1)"
   ]
  },
  {
   "cell_type": "code",
   "execution_count": 155,
   "metadata": {},
   "outputs": [
    {
     "data": {
      "text/html": [
       "<div>\n",
       "<style scoped>\n",
       "    .dataframe tbody tr th:only-of-type {\n",
       "        vertical-align: middle;\n",
       "    }\n",
       "\n",
       "    .dataframe tbody tr th {\n",
       "        vertical-align: top;\n",
       "    }\n",
       "\n",
       "    .dataframe thead th {\n",
       "        text-align: right;\n",
       "    }\n",
       "</style>\n",
       "<table border=\"1\" class=\"dataframe\">\n",
       "  <thead>\n",
       "    <tr style=\"text-align: right;\">\n",
       "      <th></th>\n",
       "      <th>campaign_id</th>\n",
       "      <th>product_category_1</th>\n",
       "      <th>user_group_id</th>\n",
       "      <th>age_level</th>\n",
       "      <th>user_depth</th>\n",
       "      <th>city_development_index</th>\n",
       "      <th>var_1</th>\n",
       "      <th>Male</th>\n",
       "      <th>B</th>\n",
       "      <th>C</th>\n",
       "      <th>D</th>\n",
       "      <th>E</th>\n",
       "      <th>F</th>\n",
       "      <th>G</th>\n",
       "      <th>H</th>\n",
       "      <th>I</th>\n",
       "      <th>J</th>\n",
       "    </tr>\n",
       "  </thead>\n",
       "  <tbody>\n",
       "    <tr>\n",
       "      <th>0</th>\n",
       "      <td>404347</td>\n",
       "      <td>1</td>\n",
       "      <td>5.0</td>\n",
       "      <td>5.0</td>\n",
       "      <td>3.0</td>\n",
       "      <td>2.0</td>\n",
       "      <td>0</td>\n",
       "      <td>1</td>\n",
       "      <td>0</td>\n",
       "      <td>0</td>\n",
       "      <td>0</td>\n",
       "      <td>0</td>\n",
       "      <td>0</td>\n",
       "      <td>0</td>\n",
       "      <td>0</td>\n",
       "      <td>0</td>\n",
       "      <td>1</td>\n",
       "    </tr>\n",
       "    <tr>\n",
       "      <th>3</th>\n",
       "      <td>118601</td>\n",
       "      <td>5</td>\n",
       "      <td>1.0</td>\n",
       "      <td>1.0</td>\n",
       "      <td>3.0</td>\n",
       "      <td>1.0</td>\n",
       "      <td>0</td>\n",
       "      <td>1</td>\n",
       "      <td>0</td>\n",
       "      <td>0</td>\n",
       "      <td>0</td>\n",
       "      <td>0</td>\n",
       "      <td>0</td>\n",
       "      <td>1</td>\n",
       "      <td>0</td>\n",
       "      <td>0</td>\n",
       "      <td>0</td>\n",
       "    </tr>\n",
       "    <tr>\n",
       "      <th>4</th>\n",
       "      <td>118601</td>\n",
       "      <td>5</td>\n",
       "      <td>9.0</td>\n",
       "      <td>3.0</td>\n",
       "      <td>1.0</td>\n",
       "      <td>2.0</td>\n",
       "      <td>1</td>\n",
       "      <td>0</td>\n",
       "      <td>0</td>\n",
       "      <td>0</td>\n",
       "      <td>0</td>\n",
       "      <td>0</td>\n",
       "      <td>0</td>\n",
       "      <td>0</td>\n",
       "      <td>1</td>\n",
       "      <td>0</td>\n",
       "      <td>0</td>\n",
       "    </tr>\n",
       "    <tr>\n",
       "      <th>5</th>\n",
       "      <td>118601</td>\n",
       "      <td>4</td>\n",
       "      <td>1.0</td>\n",
       "      <td>1.0</td>\n",
       "      <td>3.0</td>\n",
       "      <td>4.0</td>\n",
       "      <td>1</td>\n",
       "      <td>1</td>\n",
       "      <td>0</td>\n",
       "      <td>0</td>\n",
       "      <td>0</td>\n",
       "      <td>0</td>\n",
       "      <td>0</td>\n",
       "      <td>0</td>\n",
       "      <td>0</td>\n",
       "      <td>1</td>\n",
       "      <td>0</td>\n",
       "    </tr>\n",
       "    <tr>\n",
       "      <th>6</th>\n",
       "      <td>118601</td>\n",
       "      <td>4</td>\n",
       "      <td>2.0</td>\n",
       "      <td>2.0</td>\n",
       "      <td>3.0</td>\n",
       "      <td>2.0</td>\n",
       "      <td>1</td>\n",
       "      <td>1</td>\n",
       "      <td>0</td>\n",
       "      <td>0</td>\n",
       "      <td>1</td>\n",
       "      <td>0</td>\n",
       "      <td>0</td>\n",
       "      <td>0</td>\n",
       "      <td>0</td>\n",
       "      <td>0</td>\n",
       "      <td>0</td>\n",
       "    </tr>\n",
       "  </tbody>\n",
       "</table>\n",
       "</div>"
      ],
      "text/plain": [
       "   campaign_id  product_category_1  user_group_id  age_level  user_depth  \\\n",
       "0       404347                   1            5.0        5.0         3.0   \n",
       "3       118601                   5            1.0        1.0         3.0   \n",
       "4       118601                   5            9.0        3.0         1.0   \n",
       "5       118601                   4            1.0        1.0         3.0   \n",
       "6       118601                   4            2.0        2.0         3.0   \n",
       "\n",
       "   city_development_index  var_1  Male  B  C  D  E  F  G  H  I  J  \n",
       "0                     2.0      0     1  0  0  0  0  0  0  0  0  1  \n",
       "3                     1.0      0     1  0  0  0  0  0  1  0  0  0  \n",
       "4                     2.0      1     0  0  0  0  0  0  0  1  0  0  \n",
       "5                     4.0      1     1  0  0  0  0  0  0  0  1  0  \n",
       "6                     2.0      1     1  0  0  1  0  0  0  0  0  0  "
      ]
     },
     "execution_count": 155,
     "metadata": {},
     "output_type": "execute_result"
    }
   ],
   "source": [
    "dataset1.head()"
   ]
  },
  {
   "cell_type": "code",
   "execution_count": 139,
   "metadata": {},
   "outputs": [],
   "source": [
    "\n",
    "from sklearn.cross_validation import train_test_split\n",
    "from sklearn.linear_model import LogisticRegression\n",
    "from sklearn.metrics import accuracy_score\n",
    "from sklearn.metrics import confusion_matrix\n",
    "from sklearn.ensemble import RandomForestClassifier"
   ]
  },
  {
   "cell_type": "code",
   "execution_count": 140,
   "metadata": {},
   "outputs": [
    {
     "data": {
      "text/plain": [
       "(445048, 18)"
      ]
     },
     "execution_count": 140,
     "metadata": {},
     "output_type": "execute_result"
    }
   ],
   "source": [
    "dataset.shape\n"
   ]
  },
  {
   "cell_type": "code",
   "execution_count": 141,
   "metadata": {},
   "outputs": [],
   "source": [
    "X=dataset.drop('is_click',axis=1)\n",
    "y=dataset['is_click']"
   ]
  },
  {
   "cell_type": "code",
   "execution_count": 142,
   "metadata": {},
   "outputs": [],
   "source": [
    "X_train, X_test, y_train, y_test = train_test_split(X, y, test_size=0.30, random_state=42)"
   ]
  },
  {
   "cell_type": "code",
   "execution_count": null,
   "metadata": {},
   "outputs": [],
   "source": []
  },
  {
   "cell_type": "code",
   "execution_count": 143,
   "metadata": {},
   "outputs": [],
   "source": [
    "log_reg=LogisticRegression()\n",
    "rand_for=RandomForestClassifier()"
   ]
  },
  {
   "cell_type": "code",
   "execution_count": null,
   "metadata": {},
   "outputs": [],
   "source": []
  },
  {
   "cell_type": "code",
   "execution_count": 144,
   "metadata": {},
   "outputs": [
    {
     "data": {
      "text/plain": [
       "RandomForestClassifier(bootstrap=True, class_weight=None, criterion='gini',\n",
       "            max_depth=None, max_features='auto', max_leaf_nodes=None,\n",
       "            min_impurity_decrease=0.0, min_impurity_split=None,\n",
       "            min_samples_leaf=1, min_samples_split=2,\n",
       "            min_weight_fraction_leaf=0.0, n_estimators=10, n_jobs=1,\n",
       "            oob_score=False, random_state=None, verbose=0,\n",
       "            warm_start=False)"
      ]
     },
     "execution_count": 144,
     "metadata": {},
     "output_type": "execute_result"
    }
   ],
   "source": [
    "log_reg.fit(X_train,y_train)\n",
    "rand_for.fit(X_train,y_train)"
   ]
  },
  {
   "cell_type": "code",
   "execution_count": 145,
   "metadata": {},
   "outputs": [],
   "source": [
    "log_pred=log_reg.predict(X_test)\n",
    "log_pred1=rand_for.predict(X_test)"
   ]
  },
  {
   "cell_type": "code",
   "execution_count": 156,
   "metadata": {},
   "outputs": [],
   "source": [
    "log_pred=log_reg.predict(dataset1)"
   ]
  },
  {
   "cell_type": "code",
   "execution_count": 146,
   "metadata": {},
   "outputs": [],
   "source": [
    "cm=confusion_matrix(y_test,log_pred)\n",
    "cm1=confusion_matrix(y_test,log_pred1)\n"
   ]
  },
  {
   "cell_type": "code",
   "execution_count": null,
   "metadata": {},
   "outputs": [],
   "source": []
  },
  {
   "cell_type": "code",
   "execution_count": 157,
   "metadata": {},
   "outputs": [
    {
     "data": {
      "text/plain": [
       "array([1, 1, 1, ..., 1, 1, 1], dtype=int64)"
      ]
     },
     "execution_count": 157,
     "metadata": {},
     "output_type": "execute_result"
    }
   ],
   "source": [
    "log_pred"
   ]
  },
  {
   "cell_type": "code",
   "execution_count": 147,
   "metadata": {},
   "outputs": [],
   "source": [
    "np.savetxt('C:/Users/smoham72/Desktop/Amex/result.csv',log_pred,delimiter=',')"
   ]
  },
  {
   "cell_type": "code",
   "execution_count": 148,
   "metadata": {
    "scrolled": true
   },
   "outputs": [
    {
     "ename": "TypeError",
     "evalue": "confusion_matrix() missing 1 required positional argument: 'y_pred'",
     "output_type": "error",
     "traceback": [
      "\u001b[1;31m---------------------------------------------------------------------------\u001b[0m",
      "\u001b[1;31mTypeError\u001b[0m                                 Traceback (most recent call last)",
      "\u001b[1;32m<ipython-input-148-83e002953c0b>\u001b[0m in \u001b[0;36m<module>\u001b[1;34m()\u001b[0m\n\u001b[1;32m----> 1\u001b[1;33m \u001b[0mcm2\u001b[0m\u001b[1;33m=\u001b[0m\u001b[0mconfusion_matrix\u001b[0m\u001b[1;33m(\u001b[0m\u001b[0my\u001b[0m\u001b[1;33m)\u001b[0m\u001b[1;33m\u001b[0m\u001b[0m\n\u001b[0m",
      "\u001b[1;31mTypeError\u001b[0m: confusion_matrix() missing 1 required positional argument: 'y_pred'"
     ]
    }
   ],
   "source": [
    "cm2=confusion_matrix(y)"
   ]
  },
  {
   "cell_type": "code",
   "execution_count": 149,
   "metadata": {},
   "outputs": [
    {
     "data": {
      "text/plain": [
       "array([[     0,   8906],\n",
       "       [     0, 124609]], dtype=int64)"
      ]
     },
     "execution_count": 149,
     "metadata": {},
     "output_type": "execute_result"
    }
   ],
   "source": [
    "cm"
   ]
  },
  {
   "cell_type": "code",
   "execution_count": 150,
   "metadata": {},
   "outputs": [
    {
     "data": {
      "text/plain": [
       "array([[    15,   8891],\n",
       "       [   130, 124479]], dtype=int64)"
      ]
     },
     "execution_count": 150,
     "metadata": {},
     "output_type": "execute_result"
    }
   ],
   "source": [
    "cm1"
   ]
  },
  {
   "cell_type": "code",
   "execution_count": 151,
   "metadata": {},
   "outputs": [],
   "source": [
    "acc=accuracy_score(y_test,log_pred)"
   ]
  },
  {
   "cell_type": "code",
   "execution_count": 152,
   "metadata": {},
   "outputs": [],
   "source": [
    "acc1=accuracy_score(y_test,log_pred1)"
   ]
  },
  {
   "cell_type": "code",
   "execution_count": 153,
   "metadata": {},
   "outputs": [
    {
     "data": {
      "text/plain": [
       "0.9332958843575628"
      ]
     },
     "execution_count": 153,
     "metadata": {},
     "output_type": "execute_result"
    }
   ],
   "source": [
    "acc"
   ]
  },
  {
   "cell_type": "code",
   "execution_count": 154,
   "metadata": {},
   "outputs": [
    {
     "data": {
      "text/plain": [
       "0.932434557914841"
      ]
     },
     "execution_count": 154,
     "metadata": {},
     "output_type": "execute_result"
    }
   ],
   "source": [
    "acc1"
   ]
  },
  {
   "cell_type": "code",
   "execution_count": null,
   "metadata": {},
   "outputs": [],
   "source": []
  }
 ],
 "metadata": {
  "kernelspec": {
   "display_name": "Python 3",
   "language": "python",
   "name": "python3"
  },
  "language_info": {
   "codemirror_mode": {
    "name": "ipython",
    "version": 3
   },
   "file_extension": ".py",
   "mimetype": "text/x-python",
   "name": "python",
   "nbconvert_exporter": "python",
   "pygments_lexer": "ipython3",
   "version": "3.6.5"
  }
 },
 "nbformat": 4,
 "nbformat_minor": 2
}
